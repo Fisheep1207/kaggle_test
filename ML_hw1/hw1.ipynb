{
 "cells": [
  {
   "cell_type": "code",
   "execution_count": 44,
   "source": [
    "import numpy as np\n",
    "import pandas as pd\n",
    "import seaborn as sns\n",
    "import matplotlib.pyplot as plt\n",
    "\n",
    "train_raw_data = pd.read_csv(\"data/covid.train.csv\")\n",
    "# train_raw_data.info()\n",
    "print(list(train_raw_data.columns))"
   ],
   "outputs": [
    {
     "output_type": "stream",
     "name": "stdout",
     "text": [
      "['id', 'AL', 'AK', 'AZ', 'AR', 'CA', 'CO', 'CT', 'FL', 'GA', 'ID', 'IL', 'IN', 'IA', 'KS', 'KY', 'LA', 'MD', 'MA', 'MI', 'MN', 'MS', 'MO', 'NE', 'NV', 'NJ', 'NM', 'NY', 'NC', 'OH', 'OK', 'OR', 'PA', 'RI', 'SC', 'TX', 'UT', 'VA', 'WA', 'WV', 'WI', 'cli', 'ili', 'hh_cmnty_cli', 'nohh_cmnty_cli', 'wearing_mask', 'travel_outside_state', 'work_outside_home', 'shop', 'restaurant', 'spent_time', 'large_event', 'public_transit', 'anxious', 'depressed', 'felt_isolated', 'worried_become_ill', 'worried_finances', 'tested_positive', 'cli.1', 'ili.1', 'hh_cmnty_cli.1', 'nohh_cmnty_cli.1', 'wearing_mask.1', 'travel_outside_state.1', 'work_outside_home.1', 'shop.1', 'restaurant.1', 'spent_time.1', 'large_event.1', 'public_transit.1', 'anxious.1', 'depressed.1', 'felt_isolated.1', 'worried_become_ill.1', 'worried_finances.1', 'tested_positive.1', 'cli.2', 'ili.2', 'hh_cmnty_cli.2', 'nohh_cmnty_cli.2', 'wearing_mask.2', 'travel_outside_state.2', 'work_outside_home.2', 'shop.2', 'restaurant.2', 'spent_time.2', 'large_event.2', 'public_transit.2', 'anxious.2', 'depressed.2', 'felt_isolated.2', 'worried_become_ill.2', 'worried_finances.2', 'tested_positive.2']\n"
     ]
    }
   ],
   "metadata": {}
  },
  {
   "cell_type": "code",
   "execution_count": 60,
   "source": [
    "# city \n",
    "cities = train_raw_data.iloc[:, 1:41]\n",
    "train_raw_data[\"cities\"] = cities.columns[np.where(cities != 0)[1]]\n",
    "# print(train_raw_data[\"cities\"])\n",
    "test = train_raw_data.loc[:, [\"cities\", \"tested_positive\", \"tested_positive.1\", \"tested_positive.2\"]]\n",
    "test = test.groupby([\"cities\"]).sum().sort_values(by=[\"tested_positive\"], ascending=False)\n",
    "print(test)\n",
    "bar = sns.barplot(x=test.index, y=\"tested_positive\", data=test)\n",
    "plt.xticks(rotation=70)\n",
    "plt.tight_layout()\n",
    "plt.show()\n",
    "# for item in bar.get_xticklabels():\n",
    "#     item.set_rotation(45)"
   ],
   "outputs": [
    {
     "output_type": "stream",
     "name": "stdout",
     "text": [
      "        tested_positive  tested_positive.1  tested_positive.2\n",
      "cities                                                       \n",
      "MS          1900.500718        1894.607420        1889.801406\n",
      "OK          1887.525306        1884.038332        1881.612865\n",
      "OH          1709.083866        1707.312677        1704.411135\n",
      "NV          1690.433098        1687.538561        1685.292973\n",
      "MO          1687.546462        1675.808283        1666.129393\n",
      "UT          1674.587544        1661.888767        1651.086036\n",
      "NE          1650.285721        1637.875001        1626.550722\n",
      "TX          1621.890089        1623.415292        1624.846627\n",
      "ID          1608.099340        1636.559735        1662.001222\n",
      "PA          1603.633646        1604.004886        1604.513891\n",
      "IA          1445.842452        1471.696749        1497.485146\n",
      "SC          1351.810009        1354.827319        1358.344061\n",
      "KS          1330.941066        1350.415483        1366.356563\n",
      "WV          1296.142011        1303.153104        1307.296563\n",
      "AL          1291.669796        1298.434028        1304.006812\n",
      "VA          1283.161859        1290.382646        1296.110310\n",
      "NC          1214.041625        1218.675403        1222.518298\n",
      "WI          1184.859267        1172.277813        1160.736581\n",
      "AR          1177.092431        1187.577829        1199.143572\n",
      "NM          1136.140616        1130.235950        1124.146472\n",
      "LA          1067.029650        1073.144763        1079.817066\n",
      "IN           999.144641        1014.456442        1030.900279\n",
      "IL           948.643741         964.206417         980.363245\n",
      "GA           938.493661         937.093698         934.681789\n",
      "NJ           929.587316         932.752245         935.263823\n",
      "MN           864.495718         879.454420         895.768106\n",
      "RI           860.173077         857.484297         853.346568\n",
      "OR           781.292143         778.630785         777.002621\n",
      "WA           748.861899         750.415513         751.594781\n",
      "MI           747.761012         762.492212         778.854173\n",
      "NY           726.381794         731.637390         736.227584\n",
      "FL           706.295697         710.200228         714.271102\n",
      "KY           677.934571         688.676395         699.443136\n",
      "CO           652.405385         666.475840         680.271500\n",
      "AK           587.085691         600.968723         612.369617\n",
      "AZ           571.198814         577.132679         582.245847\n",
      "CA           433.305273         433.526626         434.441047\n",
      "MD           426.034066         428.627215         431.361290\n",
      "CT           358.789407         366.345074         374.504992\n",
      "MA           242.209305         245.630509         249.336397\n"
     ]
    },
    {
     "output_type": "display_data",
     "data": {
      "text/plain": [
       "<Figure size 432x288 with 1 Axes>"
      ],
      "image/png": "[encoded data removed]"
     },
     "metadata": {
      "needs_background": "light"
     }
    }
   ],
   "metadata": {}
  },
  {
   "cell_type": "code",
   "execution_count": null,
   "source": [],
   "outputs": [],
   "metadata": {}
  }
 ],
 "metadata": {
  "orig_nbformat": 4,
  "language_info": {
   "name": "python",
   "version": "3.6.8",
   "mimetype": "text/x-python",
   "codemirror_mode": {
    "name": "ipython",
    "version": 3
   },
   "pygments_lexer": "ipython3",
   "nbconvert_exporter": "python",
   "file_extension": ".py"
  },
  "kernelspec": {
   "name": "python3",
   "display_name": "Python 3.6.8 64-bit"
  },
  "interpreter": {
   "hash": "e39d743ec859d0f3e1d477a48c68b6423fa45f85cbb816a912f9064c2e3a2003"
  }
 },
 "nbformat": 4,
 "nbformat_minor": 2
}